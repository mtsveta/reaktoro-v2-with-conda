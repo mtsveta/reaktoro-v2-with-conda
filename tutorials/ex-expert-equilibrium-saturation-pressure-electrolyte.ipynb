{
 "cells": [
  {
   "cell_type": "code",
   "execution_count": null,
   "id": "8603c0bc",
   "metadata": {
    "lines_to_next_cell": 2
   },
   "outputs": [],
   "source": [
    "from reaktoro import *"
   ]
  },
  {
   "cell_type": "code",
   "execution_count": null,
   "id": "4978c9f8",
   "metadata": {},
   "outputs": [],
   "source": [
    "db = SupcrtDatabase(\"supcrtbl\")"
   ]
  },
  {
   "cell_type": "code",
   "execution_count": null,
   "id": "44e2d344",
   "metadata": {},
   "outputs": [],
   "source": [
    "solution = AqueousPhase(speciate(\"Na Cl C\"), exclude(\"organic\"))\n",
    "solution.setActivityModel(chain(\n",
    "    ActivityModelHKF(),\n",
    "    ActivityModelDrummond(\"CO2\")\n",
    "))"
   ]
  },
  {
   "cell_type": "code",
   "execution_count": null,
   "id": "f2a0a0b1",
   "metadata": {},
   "outputs": [],
   "source": [
    "gases = GaseousPhase(\"CO2(g) H2O(g)\")\n",
    "gases.setActivityModel(ActivityModelPengRobinson())"
   ]
  },
  {
   "cell_type": "code",
   "execution_count": null,
   "id": "fe0afe9d",
   "metadata": {},
   "outputs": [],
   "source": [
    "system = ChemicalSystem(db, solution, gases)"
   ]
  },
  {
   "cell_type": "code",
   "execution_count": null,
   "id": "41e4b9e7",
   "metadata": {},
   "outputs": [],
   "source": [
    "specs = EquilibriumSpecs(system)\n",
    "specs.temperature()\n",
    "specs.phaseAmount(\"GaseousPhase\")"
   ]
  },
  {
   "cell_type": "code",
   "execution_count": null,
   "id": "2f9003b5",
   "metadata": {},
   "outputs": [],
   "source": [
    "solver = EquilibriumSolver(specs)"
   ]
  },
  {
   "cell_type": "code",
   "execution_count": null,
   "id": "7196c42d",
   "metadata": {},
   "outputs": [],
   "source": [
    "state = ChemicalState(system)\n",
    "state.setTemperature(50.0, \"celsius\")\n",
    "state.setPressure(300.0, \"bar\")\n",
    "state.set(\"H2O(aq)\", 1.0, \"kg\")\n",
    "state.set(\"Na+\",     1.0, \"mol\")\n",
    "state.set(\"Cl-\",     1.0, \"mol\")\n",
    "state.set(\"CO2(aq)\", 1.0, \"mol\")"
   ]
  },
  {
   "cell_type": "code",
   "execution_count": null,
   "id": "cd171f13",
   "metadata": {},
   "outputs": [],
   "source": [
    "conditions = EquilibriumConditions(specs)\n",
    "conditions.temperature(50.0, \"celsius\")\n",
    "conditions.phaseAmount(\"GaseousPhase\", 1e-10, \"mol\")\n",
    "conditions.setLowerBoundPressure(1.0, \"bar\")\n",
    "conditions.setUpperBoundPressure(1000.0, \"bar\")"
   ]
  },
  {
   "cell_type": "code",
   "execution_count": null,
   "id": "64e8bd01",
   "metadata": {},
   "outputs": [],
   "source": [
    "solver.solve(state, conditions)"
   ]
  },
  {
   "cell_type": "code",
   "execution_count": null,
   "id": "4f598481",
   "metadata": {},
   "outputs": [],
   "source": [
    "print(f\"Pressure: {state.pressure() * 1e-5} bar\")"
   ]
  }
 ],
 "metadata": {},
 "nbformat": 4,
 "nbformat_minor": 5
}
