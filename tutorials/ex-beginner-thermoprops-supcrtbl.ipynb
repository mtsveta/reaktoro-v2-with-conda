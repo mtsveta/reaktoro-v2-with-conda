{
 "cells": [
  {
   "cell_type": "code",
   "execution_count": null,
   "id": "8263fc62",
   "metadata": {},
   "outputs": [],
   "source": [
    "from reaktoro import *\n",
    "from matplotlib import pyplot as plt\n",
    "import numpy as npy"
   ]
  },
  {
   "cell_type": "code",
   "execution_count": null,
   "id": "e4d8326f",
   "metadata": {},
   "outputs": [],
   "source": [
    "db_bl = SupcrtDatabase(\"supcrtbl\")\n",
    "db_98 = SupcrtDatabase(\"supcrt98\")"
   ]
  },
  {
   "cell_type": "code",
   "execution_count": null,
   "id": "6c34c2e0",
   "metadata": {},
   "outputs": [],
   "source": [
    "H2Og_bl = db_bl.species().get(\"H2O(g)\")\n",
    "H2Og_98 = db_98.species().get(\"H2O(g)\")"
   ]
  },
  {
   "cell_type": "code",
   "execution_count": null,
   "id": "9e87681f",
   "metadata": {},
   "outputs": [],
   "source": [
    "CO2g_bl = db_bl.species().get(\"CO2(g)\")\n",
    "CO2g_98 = db_98.species().get(\"CO2(g)\")"
   ]
  },
  {
   "cell_type": "code",
   "execution_count": null,
   "id": "23758139",
   "metadata": {},
   "outputs": [],
   "source": [
    "H2Sg_bl = db_bl.species().get(\"H2S(g)\")\n",
    "H2Sg_98 = db_98.species().get(\"H2S(g)\")"
   ]
  },
  {
   "cell_type": "code",
   "execution_count": null,
   "id": "b89ef5c6",
   "metadata": {},
   "outputs": [],
   "source": [
    "P = 80.0"
   ]
  },
  {
   "cell_type": "code",
   "execution_count": null,
   "id": "30475cdd",
   "metadata": {},
   "outputs": [],
   "source": [
    "data = []\n",
    "for T in npy.arange(25.0, 105.0, 5.0):\n",
    "    G0_H2Og_bl = H2Og_bl.props(T+273.15, P*1e5).G0[0]/1000\n",
    "    G0_H2Og_98 = H2Og_98.props(T+273.15, P*1e5).G0[0]/1000\n",
    "    G0_CO2g_bl = CO2g_bl.props(T+273.15, P*1e5).G0[0]/1000\n",
    "    G0_CO2g_98 = CO2g_98.props(T+273.15, P*1e5).G0[0]/1000\n",
    "    G0_H2Sg_bl = H2Sg_bl.props(T+273.15, P*1e5).G0[0]/1000\n",
    "    G0_H2Sg_98 = H2Sg_98.props(T+273.15, P*1e5).G0[0]/1000\n",
    "    data.append([T, G0_H2Og_bl, G0_H2Og_98, G0_CO2g_bl, G0_CO2g_98, G0_H2Sg_bl, G0_H2Sg_98])"
   ]
  },
  {
   "cell_type": "code",
   "execution_count": null,
   "id": "677144c4",
   "metadata": {},
   "outputs": [],
   "source": [
    "data = npy.array(data)"
   ]
  },
  {
   "cell_type": "code",
   "execution_count": null,
   "id": "5234ffb9",
   "metadata": {},
   "outputs": [],
   "source": [
    "print(data)"
   ]
  },
  {
   "cell_type": "code",
   "execution_count": null,
   "id": "efe6f50b",
   "metadata": {},
   "outputs": [],
   "source": [
    "plt.plot(data[:, 0], data[:, 1], label=f\"G0 (kJ/mol) of H2O(g) SUPCRTBL\")\n",
    "plt.plot(data[:, 0], data[:, 2], label=f\"G0 (kJ/mol) of H2O(g) SUPCRT98\")\n",
    "plt.legend()\n",
    "plt.savefig(\"H2Og.pdf\")\n",
    "plt.close()"
   ]
  },
  {
   "cell_type": "code",
   "execution_count": null,
   "id": "b94ceb0c",
   "metadata": {},
   "outputs": [],
   "source": [
    "plt.plot(data[:, 0], data[:, 3], label=f\"G0 (kJ/mol) of CO2(g) SUPCRTBL\")\n",
    "plt.plot(data[:, 0], data[:, 4], label=f\"G0 (kJ/mol) of CO2(g) SUPCRT98\")\n",
    "plt.legend()\n",
    "plt.savefig(\"CO2g.pdf\")\n",
    "plt.close()"
   ]
  },
  {
   "cell_type": "code",
   "execution_count": null,
   "id": "ff7d5786",
   "metadata": {},
   "outputs": [],
   "source": [
    "plt.plot(data[:, 0], data[:, 5], label=f\"G0 (kJ/mol) of H2S(g) SUPCRTBL\")\n",
    "plt.plot(data[:, 0], data[:, 6], label=f\"G0 (kJ/mol) of H2S(g) SUPCRT98\")\n",
    "plt.legend()\n",
    "plt.savefig(\"H2Sg.pdf\")\n",
    "plt.close()"
   ]
  }
 ],
 "metadata": {},
 "nbformat": 4,
 "nbformat_minor": 5
}
