{
 "cells": [
  {
   "cell_type": "code",
   "execution_count": null,
   "id": "5227445a",
   "metadata": {
    "lines_to_next_cell": 2
   },
   "outputs": [],
   "source": [
    "from reaktoro import *\n",
    "from matplotlib import pyplot as plt\n",
    "from pathlib import Path"
   ]
  },
  {
   "cell_type": "code",
   "execution_count": null,
   "id": "cd179d15",
   "metadata": {},
   "outputs": [],
   "source": [
    "N = 300\n",
    "T = 1100\n",
    "Pmin = 1\n",
    "Pmax = 1.7e3"
   ]
  },
  {
   "cell_type": "code",
   "execution_count": null,
   "id": "ff011cda",
   "metadata": {},
   "outputs": [],
   "source": [
    "filepath = Path(__file__).parent.parent/\"resources/db-molten-nacl.yaml\""
   ]
  },
  {
   "cell_type": "code",
   "execution_count": null,
   "id": "50911d9d",
   "metadata": {},
   "outputs": [],
   "source": [
    "db = Database.fromFile(str(filepath))"
   ]
  },
  {
   "cell_type": "code",
   "execution_count": null,
   "id": "94bb7bb0",
   "metadata": {},
   "outputs": [],
   "source": [
    "liquid = LiquidPhase(\"NaCl(l)\")"
   ]
  },
  {
   "cell_type": "code",
   "execution_count": null,
   "id": "f7a81eaa",
   "metadata": {},
   "outputs": [],
   "source": [
    "gases = GaseousPhase(speciate(\"Na Cl\"))"
   ]
  },
  {
   "cell_type": "code",
   "execution_count": null,
   "id": "eebfa3f7",
   "metadata": {},
   "outputs": [],
   "source": [
    "system = ChemicalSystem(db, liquid, gases)"
   ]
  },
  {
   "cell_type": "code",
   "execution_count": null,
   "id": "12789a4d",
   "metadata": {},
   "outputs": [],
   "source": [
    "state = ChemicalState(system)\n",
    "state.temperature(T, \"K\")\n",
    "state.set(\"NaCl(l)\", 1.0, \"mol\")"
   ]
  },
  {
   "cell_type": "code",
   "execution_count": null,
   "id": "c39874a0",
   "metadata": {},
   "outputs": [],
   "source": [
    "data = {}\n",
    "data[\"P\"]              = []\n",
    "data[\"NaCl(l)\"]        = []\n",
    "data[\"Na(g)\"]          = []\n",
    "data[\"Cl(g)\"]          = []\n",
    "data[\"Cl2(g)\"]         = []\n",
    "data[\"NaCl(g)\"]        = []\n",
    "data[\"Na2Cl2(g,ring)\"] = []\n",
    "data[\"Na+(g)\"]         = []\n",
    "data[\"Cl-(g)\"]         = []"
   ]
  },
  {
   "cell_type": "code",
   "execution_count": null,
   "id": "0de4a2c8",
   "metadata": {},
   "outputs": [],
   "source": [
    "for i in range(N):\n",
    "    P = Pmin + i*(Pmax - Pmin)/(N - 1)\n",
    "    state.pressure(P, \"Pa\")\n",
    "    equilibrate(state)\n",
    "    data[\"P\"].append(P/1e3)\n",
    "    data[\"NaCl(l)\"].append(state.speciesAmount(\"NaCl(l)\")[0])\n",
    "    data[\"Na(g)\"].append(state.speciesAmount(\"Na(g)\")[0])\n",
    "    data[\"Cl(g)\"].append(state.speciesAmount(\"Cl(g)\")[0])\n",
    "    data[\"Cl2(g)\"].append(state.speciesAmount(\"Cl2(g)\")[0])\n",
    "    data[\"NaCl(g)\"].append(state.speciesAmount(\"NaCl(g)\")[0])\n",
    "    data[\"Na2Cl2(g,ring)\"].append(state.speciesAmount(\"Na2Cl2(g,ring)\")[0])\n",
    "    data[\"Na+(g)\"].append(state.speciesAmount(\"Na+(g)\")[0])\n",
    "    data[\"Cl-(g)\"].append(state.speciesAmount(\"Cl-(g)\")[0])"
   ]
  },
  {
   "cell_type": "code",
   "execution_count": null,
   "id": "ad9d8324",
   "metadata": {},
   "outputs": [],
   "source": [
    "plt.subplots(figsize=(10, 5))\n",
    "plt.plot(data[\"P\"], data[\"NaCl(l)\"], label=\"NaCl(l)\")\n",
    "plt.plot(data[\"P\"], data[\"Na(g)\"], label=\"Na(g)\")\n",
    "plt.plot(data[\"P\"], data[\"Cl(g)\"], label=\"Cl(g)\")\n",
    "plt.plot(data[\"P\"], data[\"Cl2(g)\"], label=\"Cl2(g)\")\n",
    "plt.plot(data[\"P\"], data[\"NaCl(g)\"], label=\"NaCl(g)\")\n",
    "plt.plot(data[\"P\"], data[\"Na2Cl2(g,ring)\"], label=\"Na2Cl2(g,ring)\")\n",
    "plt.plot(data[\"P\"], data[\"Na+(g)\"], label=\"Na+(g)\")\n",
    "plt.plot(data[\"P\"], data[\"Cl-(g)\"], label=\"Cl-(g)\")\n",
    "plt.xlabel(\"P [kPa]\")\n",
    "plt.ylabel(\"Amount [mol]\")\n",
    "plt.legend(loc='center left', bbox_to_anchor=(1, 0.5))\n",
    "plt.grid()\n",
    "plt.tight_layout()\n",
    "plt.savefig(f\"molten-nacl-{T}K-{Pmin}-{Pmax}Pa.pdf\")"
   ]
  }
 ],
 "metadata": {},
 "nbformat": 4,
 "nbformat_minor": 5
}
