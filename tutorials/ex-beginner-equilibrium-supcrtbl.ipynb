{
 "cells": [
  {
   "cell_type": "code",
   "execution_count": null,
   "id": "fd285e72",
   "metadata": {},
   "outputs": [],
   "source": [
    "from reaktoro import *"
   ]
  },
  {
   "cell_type": "code",
   "execution_count": null,
   "id": "ea5faa54",
   "metadata": {},
   "outputs": [],
   "source": [
    "db = SupcrtDatabase(\"supcrtbl\")"
   ]
  },
  {
   "cell_type": "code",
   "execution_count": null,
   "id": "ae211c31",
   "metadata": {},
   "outputs": [],
   "source": [
    "solution = AqueousPhase(speciate(\"H O C Na Cl Ca Mg Si\"), exclude(\"organic\"))\n",
    "solution.setActivityModel(chain(\n",
    "    ActivityModelHKF(),\n",
    "    ActivityModelDrummond(\"CO2\")\n",
    "))"
   ]
  },
  {
   "cell_type": "code",
   "execution_count": null,
   "id": "74166fc6",
   "metadata": {},
   "outputs": [],
   "source": [
    "gases = GaseousPhase(\"CO2(g) H2O(g)\")\n",
    "gases.setActivityModel(ActivityModelPengRobinson())"
   ]
  },
  {
   "cell_type": "code",
   "execution_count": null,
   "id": "b80b52dc",
   "metadata": {},
   "outputs": [],
   "source": [
    "minerals = MineralPhases()"
   ]
  },
  {
   "cell_type": "code",
   "execution_count": null,
   "id": "99246c2f",
   "metadata": {},
   "outputs": [],
   "source": [
    "system = ChemicalSystem(db, solution, gases, minerals)"
   ]
  },
  {
   "cell_type": "code",
   "execution_count": null,
   "id": "7bf37dae",
   "metadata": {},
   "outputs": [],
   "source": [
    "state = ChemicalState(system)\n",
    "state.temperature(60.0, \"celsius\")\n",
    "state.pressure(100.0, \"bar\")\n",
    "state.set(\"H2O(aq)\"  , 1.0, \"kg\")\n",
    "state.set(\"CO2(g)\"   , 1.0, \"mol\")\n",
    "state.set(\"Halite\"   , 1.0, \"mol\")\n",
    "state.set(\"Calcite\"  , 1.0, \"mol\")\n",
    "state.set(\"Magnesite\", 1.0, \"mol\")\n",
    "state.set(\"Quartz\"   , 1.0, \"mol\")"
   ]
  },
  {
   "cell_type": "code",
   "execution_count": null,
   "id": "4ecb27a5",
   "metadata": {},
   "outputs": [],
   "source": [
    "solver = EquilibriumSolver(system)\n",
    "solver.solve(state)"
   ]
  },
  {
   "cell_type": "code",
   "execution_count": null,
   "id": "27f79d05",
   "metadata": {},
   "outputs": [],
   "source": [
    "props = ChemicalProps(state)\n",
    "props.output(\"props.txt\")"
   ]
  },
  {
   "cell_type": "code",
   "execution_count": null,
   "id": "f5734a99",
   "metadata": {},
   "outputs": [],
   "source": [
    "aprops = AqueousProps(state)\n",
    "aprops.output(\"aprops.txt\")"
   ]
  }
 ],
 "metadata": {},
 "nbformat": 4,
 "nbformat_minor": 5
}
