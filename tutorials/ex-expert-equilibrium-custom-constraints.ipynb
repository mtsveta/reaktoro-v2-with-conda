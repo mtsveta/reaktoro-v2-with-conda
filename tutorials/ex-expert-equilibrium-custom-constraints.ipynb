{
 "cells": [
  {
   "cell_type": "code",
   "execution_count": 4,
   "id": "f2569d63",
   "metadata": {
    "lines_to_next_cell": 2
   },
   "outputs": [],
   "source": [
    "from reaktoro import *"
   ]
  },
  {
   "cell_type": "code",
   "execution_count": 5,
   "id": "5a03bfda",
   "metadata": {},
   "outputs": [],
   "source": [
    "db = SupcrtDatabase(\"supcrtbl\")"
   ]
  },
  {
   "cell_type": "code",
   "execution_count": 6,
   "id": "ba85f7c7",
   "metadata": {},
   "outputs": [
    {
     "data": {
      "text/plain": "<reaktoro.reaktoro4py.AqueousPhase at 0x111ed05b0>"
     },
     "execution_count": 6,
     "metadata": {},
     "output_type": "execute_result"
    }
   ],
   "source": [
    "solution = AqueousPhase(speciate(\"Na Cl C Ca Mg Si\"), exclude(\"organic\"))\n",
    "solution.setActivityModel(chain(\n",
    "    ActivityModelHKF(),\n",
    "    ActivityModelDrummond(\"CO2\")\n",
    "))"
   ]
  },
  {
   "cell_type": "code",
   "execution_count": 7,
   "id": "d1e6e6d8",
   "metadata": {},
   "outputs": [
    {
     "data": {
      "text/plain": "<reaktoro.reaktoro4py.GaseousPhase at 0x113a385f0>"
     },
     "execution_count": 7,
     "metadata": {},
     "output_type": "execute_result"
    }
   ],
   "source": [
    "gases = GaseousPhase(\"CO2(g) H2O(g)\")\n",
    "gases.setActivityModel(ActivityModelPengRobinson())"
   ]
  },
  {
   "cell_type": "code",
   "execution_count": 8,
   "id": "68204a1f",
   "metadata": {},
   "outputs": [],
   "source": [
    "minerals = MineralPhases(\"Halite Calcite Magnesite Dolomite Quartz\")"
   ]
  },
  {
   "cell_type": "code",
   "execution_count": 9,
   "id": "fefb4462",
   "metadata": {},
   "outputs": [],
   "source": [
    "system = ChemicalSystem(db, solution, gases, minerals)"
   ]
  },
  {
   "cell_type": "code",
   "execution_count": 10,
   "id": "0d93a5f7",
   "metadata": {},
   "outputs": [],
   "source": [
    "statex = ChemicalState(system)\n",
    "statex.temperature(60.0, \"celsius\")\n",
    "statex.pressure(100.0, \"bar\")\n",
    "statex.set(\"H2O(aq)\"  , 1.00, \"kg\")\n",
    "statex.set(\"Halite\"   , 1.00, \"mol\")\n",
    "statex.set(\"Calcite\"  , 1.00, \"mol\")\n",
    "statex.set(\"Magnesite\", 1.00, \"mol\")\n",
    "statex.set(\"Quartz\"   , 1.00, \"mol\")"
   ]
  },
  {
   "cell_type": "code",
   "execution_count": 11,
   "id": "c73ac959",
   "metadata": {},
   "outputs": [
    {
     "data": {
      "text/plain": "<reaktoro.reaktoro4py.EquilibriumResult at 0x113a434b0>"
     },
     "execution_count": 11,
     "metadata": {},
     "output_type": "execute_result"
    }
   ],
   "source": [
    "equilibrate(statex)"
   ]
  },
  {
   "cell_type": "code",
   "execution_count": 12,
   "id": "a74db92f",
   "metadata": {},
   "outputs": [],
   "source": [
    "propsx = ChemicalProps(statex)\n",
    "Vx = propsx.volume()\n",
    "Ux = propsx.internalEnergy()"
   ]
  },
  {
   "cell_type": "code",
   "execution_count": 13,
   "id": "6f21259b",
   "metadata": {},
   "outputs": [],
   "source": [
    "statex.output(\"state-expected.txt\")\n",
    "propsx.output(\"props-expected.txt\")"
   ]
  },
  {
   "cell_type": "code",
   "execution_count": 14,
   "id": "dc971ed6",
   "metadata": {},
   "outputs": [],
   "source": [
    "specs = EquilibriumSpecs(system)"
   ]
  },
  {
   "cell_type": "code",
   "execution_count": 15,
   "id": "ca165920",
   "metadata": {},
   "outputs": [],
   "source": [
    "idxV = specs.addInput(\"V\")\n",
    "idxU = specs.addInput(\"U\")"
   ]
  },
  {
   "cell_type": "code",
   "execution_count": 16,
   "id": "58f3e8d3",
   "metadata": {},
   "outputs": [],
   "source": [
    "volumeConstraint = ConstraintEquation()\n",
    "volumeConstraint.id = \"VolumeConstraint\"\n",
    "volumeConstraint.fn = lambda props, w: props.volume() - w[idxV]"
   ]
  },
  {
   "cell_type": "code",
   "execution_count": 17,
   "id": "9ddfc2d7",
   "metadata": {},
   "outputs": [],
   "source": [
    "internalEnergyConstraint = ConstraintEquation()\n",
    "internalEnergyConstraint.id = \"InternalEnergyConstraint\"\n",
    "internalEnergyConstraint.fn = lambda props, w: props.internalEnergy() - w[idxU]"
   ]
  },
  {
   "cell_type": "code",
   "execution_count": 18,
   "id": "7773cf10",
   "metadata": {},
   "outputs": [],
   "source": [
    "specs.addConstraint(volumeConstraint)\n",
    "specs.addConstraint(internalEnergyConstraint)"
   ]
  },
  {
   "cell_type": "code",
   "execution_count": 19,
   "id": "e8add152",
   "metadata": {},
   "outputs": [],
   "source": [
    "conditions = EquilibriumConditions(specs)\n",
    "conditions.set(\"V\", Vx)\n",
    "conditions.set(\"U\", Ux)\n",
    "conditions.setLowerBoundPressure(1.0, \"bar\")"
   ]
  },
  {
   "cell_type": "code",
   "execution_count": 20,
   "id": "2f845f2d",
   "metadata": {},
   "outputs": [],
   "source": [
    "state = ChemicalState(system)\n",
    "state.temperature(25.0, \"celsius\")\n",
    "state.pressure(1.0, \"bar\")\n",
    "state.set(\"H2O(aq)\"  , 1.00, \"kg\")\n",
    "state.set(\"Halite\"   , 1.00, \"mol\")\n",
    "state.set(\"Calcite\"  , 1.00, \"mol\")\n",
    "state.set(\"Magnesite\", 1.00, \"mol\")\n",
    "state.set(\"Quartz\"   , 1.00, \"mol\")"
   ]
  },
  {
   "cell_type": "code",
   "execution_count": 21,
   "id": "90894063",
   "metadata": {},
   "outputs": [],
   "source": [
    "solver = EquilibriumSolver(specs)"
   ]
  },
  {
   "cell_type": "code",
   "execution_count": 22,
   "id": "b07cb4a4",
   "metadata": {},
   "outputs": [
    {
     "data": {
      "text/plain": "<reaktoro.reaktoro4py.EquilibriumResult at 0x1139ad730>"
     },
     "execution_count": 22,
     "metadata": {},
     "output_type": "execute_result"
    }
   ],
   "source": [
    "solver.solve(state, conditions)"
   ]
  },
  {
   "cell_type": "code",
   "execution_count": 23,
   "id": "c216ad1c",
   "metadata": {},
   "outputs": [],
   "source": [
    "props = ChemicalProps(state)"
   ]
  },
  {
   "cell_type": "code",
   "execution_count": 24,
   "id": "19903b2a",
   "metadata": {},
   "outputs": [],
   "source": [
    "state.output(\"state.txt\")\n",
    "props.output(\"props.txt\")"
   ]
  },
  {
   "cell_type": "markdown",
   "id": "954374cd",
   "metadata": {},
   "source": [
    "Check if props.txt and props-expected.txt are numerically equivalent."
   ]
  }
 ],
 "metadata": {
  "kernelspec": {
   "name": "pycharm-1ee75b1a",
   "language": "python",
   "display_name": "PyCharm (reaktoro-v2-with-conda)"
  }
 },
 "nbformat": 4,
 "nbformat_minor": 5
}