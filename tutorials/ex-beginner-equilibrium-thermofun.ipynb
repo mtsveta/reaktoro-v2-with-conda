{
 "cells": [
  {
   "cell_type": "code",
   "execution_count": null,
   "id": "14e23d2d",
   "metadata": {},
   "outputs": [],
   "source": [
    "from reaktoro import *"
   ]
  },
  {
   "cell_type": "code",
   "execution_count": null,
   "id": "8444d26e",
   "metadata": {},
   "outputs": [],
   "source": [
    "db = ThermoFunDatabase(\"aq17\")"
   ]
  },
  {
   "cell_type": "code",
   "execution_count": null,
   "id": "2cd04b51",
   "metadata": {},
   "outputs": [],
   "source": [
    "solution = AqueousPhase(speciate(\"H O C Na Cl\"))\n",
    "solution.setActivityModel(chain(\n",
    "    ActivityModelHKF(),\n",
    "    ActivityModelDrummond(\"CO2\")\n",
    "))"
   ]
  },
  {
   "cell_type": "code",
   "execution_count": null,
   "id": "77ce6c17",
   "metadata": {},
   "outputs": [],
   "source": [
    "gases = GaseousPhase(\"CO2 H2O\")\n",
    "gases.setActivityModel(ActivityModelPengRobinson())"
   ]
  },
  {
   "cell_type": "code",
   "execution_count": null,
   "id": "576065f9",
   "metadata": {},
   "outputs": [],
   "source": [
    "minerals = MineralPhases()"
   ]
  },
  {
   "cell_type": "code",
   "execution_count": null,
   "id": "226055fc",
   "metadata": {},
   "outputs": [],
   "source": [
    "system = ChemicalSystem(db, solution, gases, minerals)"
   ]
  },
  {
   "cell_type": "code",
   "execution_count": null,
   "id": "752f0804",
   "metadata": {},
   "outputs": [],
   "source": [
    "specs = EquilibriumSpecs(system)\n",
    "specs.temperature()\n",
    "specs.pressure()\n",
    "specs.pH()"
   ]
  },
  {
   "cell_type": "code",
   "execution_count": null,
   "id": "81980ebb",
   "metadata": {},
   "outputs": [],
   "source": [
    "solver = EquilibriumSolver(specs)"
   ]
  },
  {
   "cell_type": "code",
   "execution_count": null,
   "id": "766a8910",
   "metadata": {},
   "outputs": [],
   "source": [
    "conditions = EquilibriumConditions(specs)\n",
    "conditions.temperature(60.0, \"celsius\")\n",
    "conditions.pressure(100.0, \"bar\")\n",
    "conditions.pH(4.0)\n",
    "conditions.startWith(\"H2O@\", 1.0, \"kg\")\n",
    "conditions.startWith(\"Na+\",  1.0, \"mol\")\n",
    "conditions.startWith(\"Cl-\",  1.0, \"mol\")\n",
    "conditions.startWith(\"CO2\", 10.0, \"mol\")"
   ]
  },
  {
   "cell_type": "code",
   "execution_count": null,
   "id": "67ce5421",
   "metadata": {},
   "outputs": [],
   "source": [
    "state = ChemicalState(system)"
   ]
  },
  {
   "cell_type": "code",
   "execution_count": null,
   "id": "a3c7123c",
   "metadata": {},
   "outputs": [],
   "source": [
    "solver.solve(state, conditions)"
   ]
  },
  {
   "cell_type": "code",
   "execution_count": null,
   "id": "8930772b",
   "metadata": {},
   "outputs": [],
   "source": [
    "props = ChemicalProps(state)\n",
    "props.output(\"props.txt\")"
   ]
  },
  {
   "cell_type": "code",
   "execution_count": null,
   "id": "164368c9",
   "metadata": {},
   "outputs": [],
   "source": [
    "aprops = AqueousProps(state)\n",
    "aprops.output(\"aprops.txt\")"
   ]
  }
 ],
 "metadata": {},
 "nbformat": 4,
 "nbformat_minor": 5
}
